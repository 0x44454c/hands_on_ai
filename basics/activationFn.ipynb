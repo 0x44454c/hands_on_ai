{
 "cells": [
  {
   "cell_type": "markdown",
   "metadata": {},
   "source": [
    "<div align=\"right\">Author: DelusionaL<br>Date: 10/04/2021</div>\n",
    "\n",
    "# Activation Function\n",
    "---\n",
    "\n",
    "Activation function is a function that is used to get the output of node. It is also known as Transfer Function.  \n",
    "\n",
    "It is used to determine the output of neural network like yes or no. It maps the resulting values in between 0 to 1 or -1 to 1 etc. (depending upon the function).\n",
    "\n",
    "$$x=(weight \\times input)+bias\\tag{1}$$\n",
    "$$Y=Activation( \\sum(weight \\times input)+bias )\\tag{2}$$\n",
    "\n",
    ">**_A neural network without an activation function is essentially just a linear regression model._**\n",
    "\n",
    "Since we will be working with `Numpy` Arrays so import `Numpy` at first."
   ]
  },
  {
   "cell_type": "code",
   "execution_count": 2,
   "metadata": {},
   "outputs": [],
   "source": [
    "import numpy as np\n",
    "import matplotlib.pyplot as plt"
   ]
  },
  {
   "cell_type": "markdown",
   "metadata": {},
   "source": [
    "## Popular types of Activation Functions\n",
    "\n",
    "<br>\n",
    "<center>\n",
    "<img src=\"https://miro.medium.com/max/700/1*p_hyqAtyI8pbt2kEl6siOQ.png\" alt=\"Types of Activation Function\">\n",
    "</center>\n",
    "\n",
    "### 1. Binary step function\n",
    "\n",
    "$f(x)=\\begin{cases}1 & \\text{if } x > 0\\\\0 & \\text{if } x < 0\\end{cases}$\n",
    "\n",
    "<center>\n",
    "<img src=\"https://cdn.analyticsvidhya.com/wp-content/uploads/2017/10/17153604/step2-300x300.png\" alt=\"binary step\" width=300>\n",
    "</center>\n",
    "\n",
    "Python implementation:\n"
   ]
  },
  {
   "cell_type": "code",
   "execution_count": 3,
   "metadata": {},
   "outputs": [],
   "source": [
    "def binary_step(x):\n",
    "    \"\"\"\n",
    "    Compute Binary step of x\n",
    "    \n",
    "    Args:\n",
    "    x - Any real number\n",
    "\n",
    "    Return:\n",
    "    x if x>0 else 0\n",
    "    \"\"\"\n",
    "\n",
    "    if x>0:\n",
    "        return 1\n",
    "\n",
    "    return 0"
   ]
  },
  {
   "cell_type": "code",
   "execution_count": 4,
   "metadata": {},
   "outputs": [
    {
     "name": "stdout",
     "output_type": "stream",
     "text": [
      "[0 0 0 1 1 1 1]\n"
     ]
    },
    {
     "data": {
      "image/png": "[encoded data removed]",
      "text/plain": [
       "<Figure size 432x288 with 1 Axes>"
      ]
     },
     "metadata": {
      "needs_background": "light"
     },
     "output_type": "display_data"
    }
   ],
   "source": [
    "x = np.array([-3,-1,0,0.001,2,4,5]) # init an np array\n",
    "bin_step = np.vectorize(binary_step)\n",
    "y = bin_step(x)\n",
    "print(y)\n",
    "\n",
    "plt.plot(x,y)\n",
    "plt.title(\"Binary Step Function\")\n",
    "plt.xlabel(\"array\")\n",
    "plt.ylabel(\"output of bin step fn\")\n",
    "plt.show()"
   ]
  },
  {
   "cell_type": "markdown",
   "metadata": {},
   "source": [
    "Gradient of Binary step function is always `0`.\n",
    "\n",
    "$ f'(x)=0, \\text{ for all } x$\n",
    "\n",
    "<center>\n",
    "<img src=\"https://cdn.analyticsvidhya.com/wp-content/uploads/2017/10/17153723/step-derivative-300x300.png\" alt =\"Grad of Binary step\" width=300>\n",
    "</center>\n",
    "\n",
    "---"
   ]
  },
  {
   "cell_type": "markdown",
   "metadata": {},
   "source": [
    "### 2. Linear Function\n",
    "\n",
    "$ f(x)=ax, \\text{ where } a \\text{ is any constant}$\n",
    "\n",
    "<center>\n",
    "<img src=\"https://cdn.analyticsvidhya.com/wp-content/uploads/2017/10/17154239/linear-300x300.png\" alt=\"linear function\" width=300>\n",
    "</center>\n",
    "\n",
    "Python implementation:"
   ]
  },
  {
   "cell_type": "code",
   "execution_count": 5,
   "metadata": {},
   "outputs": [],
   "source": [
    "def linear_fn(x):\n",
    "    \"\"\"\n",
    "    Compute Linear function over x\n",
    "    \n",
    "    Args:\n",
    "    x - Any real number\n",
    "\n",
    "    Return:\n",
    "    4x - 4 times x\n",
    "    \"\"\"\n",
    "    return 4*x"
   ]
  },
  {
   "cell_type": "code",
   "execution_count": 6,
   "metadata": {},
   "outputs": [
    {
     "name": "stdout",
     "output_type": "stream",
     "text": [
      "[-1.2e+01 -4.0e+00  0.0e+00  4.0e-03  8.0e+00  1.6e+01  2.0e+01]\n"
     ]
    },
    {
     "data": {
      "image/png": "[encoded data removed]",
      "text/plain": [
       "<Figure size 432x288 with 1 Axes>"
      ]
     },
     "metadata": {
      "needs_background": "light"
     },
     "output_type": "display_data"
    }
   ],
   "source": [
    "lin = np.vectorize(linear_fn)\n",
    "y = lin(x)\n",
    "print(y)\n",
    "\n",
    "plt.plot(x,y)\n",
    "plt.show()"
   ]
  },
  {
   "cell_type": "markdown",
   "metadata": {},
   "source": [
    "Gradient of linear function is `a`.\n",
    "\n",
    "$f'(x)=a$\n",
    "\n",
    "<center>\n",
    "<img src=\"https://cdn.analyticsvidhya.com/wp-content/uploads/2017/10/17154325/linear-derivative-300x300.png\" alt=\"grad of linear fn\" width=300>\n",
    "</center>\n",
    "\n",
    "---"
   ]
  },
  {
   "cell_type": "markdown",
   "metadata": {},
   "source": [
    "### 3. Sigmoid\n",
    "\n",
    "$\\sigma(x)=\\frac{1}{1+e^{-x}}$\n",
    "\n",
    "<center>\n",
    "<img src=\"https://cdn.analyticsvidhya.com/wp-content/uploads/2017/10/17154935/sigmoid-300x300.png\" alt=\"sigmoid fn\" width=300>\n",
    "</center>\n",
    "\n",
    "Python Implementation:\n"
   ]
  },
  {
   "cell_type": "code",
   "execution_count": 7,
   "metadata": {},
   "outputs": [],
   "source": [
    "def sigmoid(x):\n",
    "    \"\"\"\n",
    "    Compute sigmoid of x\n",
    "    \n",
    "    Args:\n",
    "    x - Any real number or numpy array\n",
    "\n",
    "    Return:\n",
    "    s - sigmoid of x\n",
    "    \"\"\"\n",
    "    \n",
    "    s = 1/(1+np.exp(-x))\n",
    "    return s"
   ]
  },
  {
   "cell_type": "code",
   "execution_count": 8,
   "metadata": {},
   "outputs": [
    {
     "name": "stdout",
     "output_type": "stream",
     "text": [
      "[0.04742587 0.26894142 0.5        0.50025    0.88079708 0.98201379\n",
      " 0.99330715]\n"
     ]
    },
    {
     "data": {
      "image/png": "[encoded data removed]",
      "text/plain": [
       "<Figure size 432x288 with 1 Axes>"
      ]
     },
     "metadata": {
      "needs_background": "light"
     },
     "output_type": "display_data"
    }
   ],
   "source": [
    "s = sigmoid(x)\n",
    "print(s)\n",
    "\n",
    "plt.plot(x,s)\n",
    "plt.show()"
   ]
  },
  {
   "cell_type": "markdown",
   "metadata": {},
   "source": [
    "Gradient of sigmoid function is `sigmoid(x)*(1-sigmoid(x))`.\n",
    "\n",
    "$ f'(x)=\\sigma(x)(1-\\sigma(x))$\n",
    "\n",
    "<center>\n",
    "<img src=\"https://cdn.analyticsvidhya.com/wp-content/uploads/2017/10/17155643/sigmoid-derivative-300x300.png\" alt=\"grad of sigmoid fn\" width=300>\n",
    "</center>\n",
    "\n",
    "---"
   ]
  },
  {
   "cell_type": "markdown",
   "metadata": {},
   "source": [
    "### 4. Tanh\n",
    "\n",
    "$\\tanh(x)=2\\sigma(2x)-1$\n",
    "\n",
    "<center>\n",
    "<img src=\"https://cdn.analyticsvidhya.com/wp-content/uploads/2017/10/17160043/tanh1-300x300.png\" alt=\"tanh fn\" width=300>\n",
    "</center>\n",
    "\n",
    "Python Implementation:\n"
   ]
  },
  {
   "cell_type": "code",
   "execution_count": 9,
   "metadata": {},
   "outputs": [],
   "source": [
    "def tanh(x):\n",
    "    \"\"\"\n",
    "    Compute tanh of x\n",
    "    \n",
    "    Args:\n",
    "    x - Any real number or numpy array\n",
    "\n",
    "    Return:\n",
    "    t - tanh of x\n",
    "    \"\"\"\n",
    "    \n",
    "    t = 2*sigmoid(2*x)-1\n",
    "    return t"
   ]
  },
  {
   "cell_type": "code",
   "execution_count": 10,
   "metadata": {},
   "outputs": [
    {
     "name": "stdout",
     "output_type": "stream",
     "text": [
      "[-0.99505475 -0.76159416  0.          0.001       0.96402758  0.9993293\n",
      "  0.9999092 ]\n"
     ]
    },
    {
     "data": {
      "image/png": "[encoded data removed]",
      "text/plain": [
       "<Figure size 432x288 with 1 Axes>"
      ]
     },
     "metadata": {
      "needs_background": "light"
     },
     "output_type": "display_data"
    }
   ],
   "source": [
    "t = tanh(x)\n",
    "print(t)\n",
    "\n",
    "plt.plot(x,t)\n",
    "plt.show()"
   ]
  },
  {
   "cell_type": "markdown",
   "metadata": {},
   "source": [
    "Gradient of tanh function is `1-(tanh(x)*tanh(x))`.\n",
    "\n",
    "$ f'(x)=1-\\tanh^2(x)$\n",
    "\n",
    "<center>\n",
    "<img src=\"https://cdn.analyticsvidhya.com/wp-content/uploads/2017/10/17160351/tanh-derivative-300x300.png\" alt=\"grad of tanh fn\" width=300>\n",
    "</center>\n",
    "\n",
    "---"
   ]
  },
  {
   "cell_type": "markdown",
   "metadata": {},
   "source": [
    "### 5. ReLU\n",
    "\n",
    "$ f(x)=\\begin{cases}x & \\text{if } x \\geq 0\\\\0 & \\text{if } x < 0\\end{cases}$\n",
    "\n",
    "<center>\n",
    "<img src=\"https://cdn.analyticsvidhya.com/wp-content/uploads/2017/10/17160725/relu-300x300.png\" alt=\"relu fn\" width=300>\n",
    "</center>\n",
    "\n",
    "Python Implementation:\n"
   ]
  },
  {
   "cell_type": "code",
   "execution_count": 11,
   "metadata": {},
   "outputs": [],
   "source": [
    "def relu(x):\n",
    "    \"\"\"\n",
    "    Compute relu of x\n",
    "    \n",
    "    Args:\n",
    "    x - Any real number or numpy array\n",
    "\n",
    "    Return:\n",
    "    r - relu of x\n",
    "    \"\"\"\n",
    "    \n",
    "    r = np.maximum(0,x)\n",
    "    return r"
   ]
  },
  {
   "cell_type": "code",
   "execution_count": 12,
   "metadata": {},
   "outputs": [
    {
     "name": "stdout",
     "output_type": "stream",
     "text": [
      "[0.e+00 0.e+00 0.e+00 1.e-03 2.e+00 4.e+00 5.e+00]\n"
     ]
    },
    {
     "data": {
      "image/png": "[encoded data removed]",
      "text/plain": [
       "<Figure size 432x288 with 1 Axes>"
      ]
     },
     "metadata": {
      "needs_background": "light"
     },
     "output_type": "display_data"
    }
   ],
   "source": [
    "r = relu(x)\n",
    "print(r)\n",
    "\n",
    "plt.plot(x,r)\n",
    "plt.show()"
   ]
  },
  {
   "cell_type": "markdown",
   "metadata": {},
   "source": [
    "Gradient of relu function is `binary_step(x)`.\n",
    "\n",
    "$ f(x)=\\begin{cases}1 & \\text{if } x \\geq 0\\\\0 & \\text{if } x < 0\\end{cases}$\n",
    "\n",
    "<center>\n",
    "<img src=\"https://cdn.analyticsvidhya.com/wp-content/uploads/2017/10/17160955/relu-derivative-300x300.png\" alt=\"grad of tanh fn\" width=300>\n",
    "</center>\n",
    "\n",
    "---"
   ]
  },
  {
   "cell_type": "markdown",
   "metadata": {},
   "source": [
    "### 6. Leaky ReLU\n",
    "\n",
    "$ f(x)=\\begin{cases}x & \\text{if } x \\geq 0\\\\0.01x & \\text{if } x < 0\\end{cases}$\n",
    "\n",
    "<center>\n",
    "<img src=\"https://cdn.analyticsvidhya.com/wp-content/uploads/2017/10/17161552/leaky-relu-300x300.png\" alt=\"leaky relu fn\" width=300>\n",
    "</center>\n",
    "\n",
    "Python Implementation:"
   ]
  },
  {
   "cell_type": "code",
   "execution_count": 13,
   "metadata": {},
   "outputs": [],
   "source": [
    "def leaky_relu(x):\n",
    "    \"\"\"\n",
    "    Compute leaky relu of x\n",
    "    \n",
    "    Args:\n",
    "    x - Any real number\n",
    "\n",
    "    Return:\n",
    "    leaky relu of x\n",
    "    \"\"\"\n",
    "    \n",
    "    return 0.01*x if x<0 else x"
   ]
  },
  {
   "cell_type": "code",
   "execution_count": 14,
   "metadata": {},
   "outputs": [
    {
     "name": "stdout",
     "output_type": "stream",
     "text": [
      "[-0.5  -0.2  -0.1  -0.05  0.    1.    4.    7.    8.  ]\n"
     ]
    },
    {
     "data": {
      "image/png": "[encoded data removed]",
      "text/plain": [
       "<Figure size 432x288 with 1 Axes>"
      ]
     },
     "metadata": {
      "needs_background": "light"
     },
     "output_type": "display_data"
    }
   ],
   "source": [
    "rlp = np.array([-50,-20,-10,-5,0,1,4,7,8])\n",
    "l_relu = np.vectorize(leaky_relu)\n",
    "y = l_relu(rlp)\n",
    "print(y)\n",
    "\n",
    "plt.plot(rlp,y)\n",
    "plt.show()"
   ]
  },
  {
   "cell_type": "markdown",
   "metadata": {},
   "source": [
    "Gradient of leaky relu function is `0.01 if x<0 else 1`.\n",
    "\n",
    "$f(x)=\\begin{cases}1 & \\text{if } x \\geq 0\\\\0.01 & \\text{if } x < 0\\end{cases}$\n",
    "\n",
    "<center>\n",
    "<img src=\"https://cdn.analyticsvidhya.com/wp-content/uploads/2017/10/17161626/leaky-relu-derivative-300x300.png\" alt=\"grad of tanh fn\" width=300>\n",
    "</center>\n",
    "\n",
    "---"
   ]
  },
  {
   "cell_type": "markdown",
   "metadata": {},
   "source": [
    "### 7. Parameterised ReLU\n",
    "\n",
    "$f(x)=\\begin{cases}x & \\text{if } x \\geq 0\\\\ax & \\text{if } x < 0\\end{cases}$\n",
    "\n",
    "<center>\n",
    "<img src=\"https://cdn.analyticsvidhya.com/wp-content/uploads/2017/10/prelu-300x262.png\" alt=\"parameterised relu fn\" width=300>\n",
    "</center>\n",
    "\n",
    "Python Implementation:"
   ]
  },
  {
   "cell_type": "code",
   "execution_count": 15,
   "metadata": {},
   "outputs": [],
   "source": [
    "def prelu(x):\n",
    "    \"\"\"\n",
    "    Compute prelu of x\n",
    "    \n",
    "    Args:\n",
    "    x - Any real number\n",
    "\n",
    "    Return:\n",
    "    prelu of x\n",
    "    \"\"\"\n",
    "    \n",
    "    return 0.3*x if x<0 else x"
   ]
  },
  {
   "cell_type": "code",
   "execution_count": 16,
   "metadata": {},
   "outputs": [
    {
     "name": "stdout",
     "output_type": "stream",
     "text": [
      "[-9.e-01 -3.e-01  0.e+00  1.e-03  2.e+00  4.e+00  5.e+00]\n"
     ]
    },
    {
     "data": {
      "image/png": "[encoded data removed]",
      "text/plain": [
       "<Figure size 432x288 with 1 Axes>"
      ]
     },
     "metadata": {
      "needs_background": "light"
     },
     "output_type": "display_data"
    }
   ],
   "source": [
    "p_relu = np.vectorize(prelu)\n",
    "y = p_relu(x)\n",
    "print(y)\n",
    "\n",
    "plt.plot(x,y)\n",
    "plt.show()"
   ]
  },
  {
   "cell_type": "markdown",
   "metadata": {},
   "source": [
    "Gradient of parameterized relu function is `a if x<0 else 1`.\n",
    "\n",
    "$ f(x)=\\begin{cases}1 & \\text{if } x \\geq 0\\\\a & \\text{if } x < 0\\end{cases}$\n",
    "\n",
    "---"
   ]
  },
  {
   "cell_type": "markdown",
   "metadata": {},
   "source": [
    "### 8. Exponential Linear Unit\n",
    "\n",
    "$f(x)=\\begin{cases}x & \\text{if } x \\geq 0\\\\a(e^x-1) & \\text{if } x < 0\\end{cases}$\n",
    "\n",
    "<center>\n",
    "<img src=\"https://cdn.analyticsvidhya.com/wp-content/uploads/2017/10/elu-and-relu-300x194.png\" alt=\"elu fn\" width=300>\n",
    "</center>\n",
    "\n",
    "Python Implementation:"
   ]
  },
  {
   "cell_type": "code",
   "execution_count": 17,
   "metadata": {},
   "outputs": [],
   "source": [
    "def elu(x,a):\n",
    "    \"\"\"\n",
    "    Compute elu of x\n",
    "    \n",
    "    Args:\n",
    "    x - Any real number\n",
    "\n",
    "    Return:\n",
    "    relu of x\n",
    "    \"\"\"\n",
    "    \n",
    "    return a*(np.exp(x)-1) if x<0 else x"
   ]
  },
  {
   "cell_type": "code",
   "execution_count": 18,
   "metadata": {},
   "outputs": [
    {
     "name": "stdout",
     "output_type": "stream",
     "text": [
      "[-2.         -2.         -1.9999092  -1.98652411  0.          1.\n",
      "  4.          7.          8.        ]\n"
     ]
    },
    {
     "data": {
      "image/png": "[encoded data removed]",
      "text/plain": [
       "<Figure size 432x288 with 1 Axes>"
      ]
     },
     "metadata": {
      "needs_background": "light"
     },
     "output_type": "display_data"
    }
   ],
   "source": [
    "v_elu = np.vectorize(elu)\n",
    "y = v_elu(rlp, 2)\n",
    "print(y)\n",
    "\n",
    "plt.plot(rlp,y)\n",
    "plt.show()"
   ]
  },
  {
   "cell_type": "markdown",
   "metadata": {},
   "source": [
    "Gradient of elu function is `a*np.exp(x) if x<0 else 1`.\n",
    "\n",
    "$f(x)=\\begin{cases}1 & \\text{if } x \\geq 0\\\\ae^x & \\text{if } x < 0\\end{cases}$\n",
    "\n",
    "---"
   ]
  },
  {
   "cell_type": "markdown",
   "metadata": {},
   "source": [
    "### 9. Swish\n",
    "\n",
    "$f(x)=x\\sigma(x) = \\frac{x}{1+e^{-x}}$\n",
    "\n",
    "<center>\n",
    "<img src=\"https://cdn.analyticsvidhya.com/wp-content/uploads/2017/10/swish-1024x511-1.png\" alt=\"swish fn\" width=600>\n",
    "</center>\n",
    "\n",
    "Python Implementation:"
   ]
  },
  {
   "cell_type": "code",
   "execution_count": 19,
   "metadata": {},
   "outputs": [],
   "source": [
    "def swish(x):\n",
    "    \"\"\"\n",
    "    Compute swish of x\n",
    "    \n",
    "    Args:\n",
    "    x - any real number or numpy array\n",
    "    \n",
    "    Return;\n",
    "    swish of x\n",
    "    \"\"\"\n",
    "    \n",
    "    return x/(1+np.exp(-x))"
   ]
  },
  {
   "cell_type": "code",
   "execution_count": 20,
   "metadata": {},
   "outputs": [
    {
     "name": "stdout",
     "output_type": "stream",
     "text": [
      "[-1.42277620e-01 -2.68941421e-01  0.00000000e+00  5.00250000e-04\n",
      "  1.76159416e+00  3.92805516e+00  4.96653575e+00]\n"
     ]
    },
    {
     "data": {
      "image/png": "[encoded data removed]",
      "text/plain": [
       "<Figure size 432x288 with 1 Axes>"
      ]
     },
     "metadata": {
      "needs_background": "light"
     },
     "output_type": "display_data"
    }
   ],
   "source": [
    "y = swish(x)\n",
    "print(y)\n",
    "\n",
    "plt.plot(x,y)\n",
    "plt.show()"
   ]
  },
  {
   "cell_type": "markdown",
   "metadata": {},
   "source": [
    "---\n",
    "\n",
    "### 10. Softmax\n",
    "\n",
    "$$\\large\\sigma(z)_j=\\frac{e^{z_j}}{\\sum_{k=1}^K e^{z_k}} \\text{ for }j=1,2,...,K$$\n",
    "\n",
    "Python Implementation:"
   ]
  },
  {
   "cell_type": "code",
   "execution_count": 21,
   "metadata": {},
   "outputs": [],
   "source": [
    "def softmax(x):\n",
    "    \"\"\"\n",
    "    Compute softmax of x\n",
    "    \n",
    "    Args:\n",
    "    x - numpy array\n",
    "    Return:\n",
    "    zs - softmax of x\n",
    "    \"\"\"\n",
    "    \n",
    "    z = np.exp(x)\n",
    "    zs = z/z.sum()\n",
    "    return zs"
   ]
  },
  {
   "cell_type": "code",
   "execution_count": 22,
   "metadata": {},
   "outputs": [
    {
     "name": "stdout",
     "output_type": "stream",
     "text": [
      "[2.33940864e-04 1.72860217e-03 4.69882787e-03 4.70352905e-03\n",
      " 3.47199027e-02 2.56547309e-01 6.97367888e-01]\n"
     ]
    },
    {
     "data": {
      "image/png": "[encoded data removed]",
      "text/plain": [
       "<Figure size 432x288 with 1 Axes>"
      ]
     },
     "metadata": {
      "needs_background": "light"
     },
     "output_type": "display_data"
    }
   ],
   "source": [
    "zs = softmax(x)\n",
    "print(zs)\n",
    "\n",
    "plt.plot(x,zs)\n",
    "plt.show()"
   ]
  },
  {
   "cell_type": "markdown",
   "metadata": {},
   "source": [
    "---\n",
    "\n",
    "## Bibliography\n",
    "\n",
    "- https://www.analyticsvidhya.com/blog/2020/01/fundamentals-deep-learning-activation-functions-when-to-use-them/\n",
    "- https://towardsdatascience.com/activation-functions-neural-networks-1cbd9f8d91d6"
   ]
  }
 ],
 "metadata": {
  "kernelspec": {
   "display_name": "Python 3",
   "language": "python",
   "name": "python3"
  },
  "language_info": {
   "codemirror_mode": {
    "name": "ipython",
    "version": 3
   },
   "file_extension": ".py",
   "mimetype": "text/x-python",
   "name": "python",
   "nbconvert_exporter": "python",
   "pygments_lexer": "ipython3",
   "version": "3.9.2"
  }
 },
 "nbformat": 4,
 "nbformat_minor": 2
}
