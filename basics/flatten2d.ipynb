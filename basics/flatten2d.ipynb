{
 "cells": [
  {
   "cell_type": "markdown",
   "id": "3b14399d",
   "metadata": {},
   "source": [
    "<div align=\"right\">Author: DelusionaL<br>Date: 11/04/2021</div>\n",
    "\n",
    "# Flatten to 2D"
   ]
  },
  {
   "cell_type": "code",
   "execution_count": 1,
   "id": "b37c5dc5",
   "metadata": {},
   "outputs": [],
   "source": [
    "a = [2,['dda',23,['dad',4.7],'j',8],9,(1,2)]"
   ]
  },
  {
   "cell_type": "code",
   "execution_count": 27,
   "id": "8d7fd47c",
   "metadata": {},
   "outputs": [],
   "source": [
    "def flatten_list(a):\n",
    "    # N.B. this also can be implemented using\n",
    "    # global variable or just defining \n",
    "    # inner function with passing 2 params\n",
    "    \n",
    "    \"\"\"\n",
    "    args:\n",
    "    a -- deeply nested list\n",
    "    \n",
    "    return:\n",
    "    f_list -- flattened 2d list\n",
    "    \"\"\"\n",
    "    f_list = []\n",
    "    \n",
    "    # this is implemented using inner funtion\n",
    "    def rec_list(a, f_list):\n",
    "        \"\"\"\n",
    "        Recursion based flattening of list into 2d list\n",
    "        \n",
    "        args:\n",
    "        a -- dirty list\n",
    "        f_list -- flattened list\n",
    "        \"\"\"\n",
    "        t_list = []\n",
    "\n",
    "        for i in a:\n",
    "            if type(i) == list:\n",
    "                rec_list(i,f_list)\n",
    "            elif type(i)== tuple:\n",
    "                rec_list(list(i),f_list)\n",
    "            else:\n",
    "                t_list.append(i)\n",
    "\n",
    "        f_list.append(t_list)\n",
    "    \n",
    "    rec_list(a, f_list)   # inner getting called      \n",
    "    return f_list"
   ]
  },
  {
   "cell_type": "code",
   "execution_count": 33,
   "id": "58844450",
   "metadata": {},
   "outputs": [
    {
     "name": "stdout",
     "output_type": "stream",
     "text": [
      "['dad', 4.7]\n",
      "['dda', 23, 'j', 8]\n",
      "[1, 2]\n",
      "[2, 9]\n"
     ]
    }
   ],
   "source": [
    "print(*flatten_list(a), sep=\"\\n\")"
   ]
  }
 ],
 "metadata": {
  "kernelspec": {
   "display_name": "Python 3",
   "language": "python",
   "name": "python3"
  },
  "language_info": {
   "codemirror_mode": {
    "name": "ipython",
    "version": 3
   },
   "file_extension": ".py",
   "mimetype": "text/x-python",
   "name": "python",
   "nbconvert_exporter": "python",
   "pygments_lexer": "ipython3",
   "version": "3.9.2"
  }
 },
 "nbformat": 4,
 "nbformat_minor": 5
}
